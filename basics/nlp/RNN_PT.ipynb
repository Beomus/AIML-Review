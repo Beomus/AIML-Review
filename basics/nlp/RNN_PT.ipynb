{
 "cells": [
  {
   "cell_type": "markdown",
   "metadata": {
    "id": "BVq5mz9s8CPL"
   },
   "source": [
    "## Building RNNs is Fun with PyTorch and Google Colab\n",
    "In this tutorial, I will first teach you how to build a recurrent neural network (RNN) with a single layer, consisting of one single neuron, with PyTorch and Google Colab. I will also show you how to implement a simple RNN-based model for image classification.\n",
    "\n",
    "This work is heavily inspired by Aurélien Géron's book called [\"Hand-On Machine Learning with Scikit-Learn and TensorFlow\"](https://www.oreilly.com/library/view/hands-on-machine-learning/9781491962282/). Although his neural network implementations are purely in TensorFlow, I adopted/reused some notations/variables names and implemented things using PyTorch only. I really enjoyed his book and learned a lot from his explanations. His work inspired this tutorial and I strongly recommend the book.\n",
    "\n",
    "We will be using Google Colab so we need to manually install the PyTorch library first. You can do this by using the following command:"
   ]
  },
  {
   "cell_type": "markdown",
   "metadata": {
    "id": "mXs_oWct-qxY"
   },
   "source": [
    "Now we can import the necessary libraries we will use in the tutorial:"
   ]
  },
  {
   "cell_type": "code",
   "execution_count": 1,
   "metadata": {
    "id": "BBuAr4-L8CPN"
   },
   "outputs": [],
   "source": [
    "import torch\n",
    "import torch.nn as nn\n",
    "import torch.nn.functional as F\n",
    "import os\n",
    "import numpy as np\n",
    "import wandb"
   ]
  },
  {
   "cell_type": "markdown",
   "metadata": {
    "id": "EMQfRrRl8CPV"
   },
   "source": [
    "### RNN with A Single Neuron\n",
    "\n",
    "\n",
    "The idea of this tutorial is to show you the basic operations necessary for building an RNN architecture using PyTorch. This guide assumes you have knowledge of basic RNNs and that you have read the tutorial on [building neural networks from scratch using PyTorch](https://medium.com/dair-ai/a-simple-neural-network-from-scratch-with-pytorch-and-google-colab-c7f3830618e0). I will try to review RNNs wherever possible for those that need a refresher but I will keep it minimal.\n",
    "\n",
    "First, let's build the computation graph for a single-layer RNN. Again, we are not concerned with the math for now, I just want to show you the PyTorch operations needed to build your RNN models.\n",
    "\n",
    "For illustration purposes, this is the architecture we are building:\n",
    "\n",
    "![alt txt](https://docs.google.com/drawings/d/e/2PACX-1vQXBLYvvI1dqAHdLA0hQdsP1PojmCfuSCMK2DXEL0uTvRUqvD1eYK8fsECcNCoekxCbgWJ-k7QF_1s4/pub?w=600&h=400)"
   ]
  },
  {
   "cell_type": "markdown",
   "metadata": {
    "id": "kHjE4j2x8CPW"
   },
   "source": [
    "And here is the code:"
   ]
  },
  {
   "cell_type": "code",
   "execution_count": 2,
   "metadata": {
    "id": "qiY3EllI8CPY"
   },
   "outputs": [],
   "source": [
    "class SingleRNN(nn.Module):\n",
    "    def __init__(self, n_inputs, n_neurons):\n",
    "        super(SingleRNN, self).__init__()\n",
    "\n",
    "        self.Wx = torch.randn(n_inputs, n_neurons)  # 4 X 1\n",
    "        self.Wy = torch.randn(n_neurons, n_neurons)  # 1 X 1\n",
    "\n",
    "        self.b = torch.zeros(1, n_neurons)  # 1 X 4\n",
    "\n",
    "    def forward(self, X0, X1):\n",
    "        self.Y0 = torch.tanh(torch.mm(X0, self.Wx) + self.b)  # 4 X 1\n",
    "\n",
    "        self.Y1 = torch.tanh(\n",
    "            torch.mm(self.Y0, self.Wy) + torch.mm(X1, self.Wx) + self.b\n",
    "        )  # 4 X 1\n",
    "\n",
    "        return self.Y0, self.Y1"
   ]
  },
  {
   "cell_type": "markdown",
   "metadata": {
    "id": "cP94VBHE8CPc"
   },
   "source": [
    "In the above code, I have implemented a simple one layer, one neuron RNN. I initialized two weight matrices, `Wx` and `Wy` with values from a normal distribution. `Wx` contains connection weights for the inputs of the current time step, while `Wy` contains connection weights for the outputs of the previous time step. We added a bias `b`. The `forward` function computes two outputs -- one for each time step... two in this case. Note that we are using `tanh` as the nonlinearity (activation function).\n",
    "\n",
    "As for the input, we are providing 4 instances, with each instance containing two input sequences.\n",
    "\n",
    "For illustration purposes, this is how the data is being fed into the RNN model: \n",
    "\n",
    "![alt txt](https://docs.google.com/drawings/d/e/2PACX-1vRpQYtOzO1U_3yQLf1885kMaja6MsXtJ8QnlqxrfpTgZmb4WpewJXphGdmotYXDB1VE6zlW6cBY_WqR/pub?w=600&h=600)"
   ]
  },
  {
   "cell_type": "markdown",
   "metadata": {
    "id": "ydSxau_eFpwH"
   },
   "source": [
    "And this is the code to test the model:"
   ]
  },
  {
   "cell_type": "code",
   "execution_count": 3,
   "metadata": {
    "id": "7a7-kIhj8CPe"
   },
   "outputs": [],
   "source": [
    "N_INPUT = 4\n",
    "N_NEURONS = 1\n",
    "\n",
    "X0_batch = torch.tensor(\n",
    "    [[0, 1, 2, 0], [3, 4, 5, 0], [6, 7, 8, 0], [9, 0, 1, 0]], dtype=torch.float\n",
    ")  # t=0 => 4 X 4\n",
    "\n",
    "X1_batch = torch.tensor(\n",
    "    [[9, 8, 7, 0], [0, 0, 0, 0], [6, 5, 4, 0], [3, 2, 1, 0]], dtype=torch.float\n",
    ")  # t=1 => 4 X 4\n",
    "\n",
    "model = SingleRNN(N_INPUT, N_NEURONS)\n",
    "\n",
    "Y0_val, Y1_val = model(X0_batch, X1_batch)"
   ]
  },
  {
   "cell_type": "markdown",
   "metadata": {
    "id": "uNaFkJUP8CPj"
   },
   "source": [
    "After we have fed the input into the computation graph, we obtain outputs for each timestep (`Y0`, `Y1`), which we can now print as follows:"
   ]
  },
  {
   "cell_type": "code",
   "execution_count": 4,
   "metadata": {
    "colab": {
     "base_uri": "https://localhost:8080/",
     "height": 153
    },
    "id": "q-teLNoV8CPl",
    "outputId": "5101559c-2dad-4c71-b12b-58fbe854ba46"
   },
   "outputs": [
    {
     "name": "stdout",
     "output_type": "stream",
     "text": [
      "tensor([[-0.8960],\n",
      "        [-0.9999],\n",
      "        [-1.0000],\n",
      "        [-0.9967]])\n",
      "tensor([[-1.0000],\n",
      "        [ 0.1542],\n",
      "        [-1.0000],\n",
      "        [-0.9649]])\n"
     ]
    }
   ],
   "source": [
    "print(Y0_val)\n",
    "print(Y1_val)"
   ]
  },
  {
   "cell_type": "markdown",
   "metadata": {
    "id": "n6tcX6ii8CP0"
   },
   "source": [
    "### Increasing Neurons in RNN Layer\n",
    "Next, I will show you how to generalize the RNN we have just build to let the single layer support an `n` amount of neurons. In terms of the architecture, nothing really changes since we have already parameterized the number of neurons in the computation graph we have built. However, the size of the output changes since we have changed the size of number of units (i.e., neurons) in the RNN layer. \n",
    "\n",
    "Here is an illustration of what we will build:\n",
    "\n",
    "![alt txt](https://docs.google.com/drawings/d/e/2PACX-1vQov6BGg1fXOb7Bg5zenPh7R5j6VsZJh_D6JevQ_sm_fCxmXORxad3qLIFGG1FojzJig0qdcAQoGYoN/pub?w=600&h=404)"
   ]
  },
  {
   "cell_type": "markdown",
   "metadata": {
    "id": "t5e2Eh5dGvnB"
   },
   "source": [
    "And here is the code:"
   ]
  },
  {
   "cell_type": "code",
   "execution_count": 5,
   "metadata": {
    "id": "zcEqoDfP8CP2"
   },
   "outputs": [],
   "source": [
    "class BasicRNN(nn.Module):\n",
    "    def __init__(self, n_inputs, n_neurons):\n",
    "        super(BasicRNN, self).__init__()\n",
    "\n",
    "        self.Wx = torch.randn(n_inputs, n_neurons)  # n_inputs X n_neurons\n",
    "        self.Wy = torch.randn(n_neurons, n_neurons)  # n_neurons X n_neurons\n",
    "\n",
    "        self.b = torch.zeros(1, n_neurons)  # 1 X n_neurons\n",
    "\n",
    "    def forward(self, X0, X1):\n",
    "        self.Y0 = torch.tanh(torch.mm(X0, self.Wx) + self.b)  # batch_size X n_neurons\n",
    "\n",
    "        self.Y1 = torch.tanh(\n",
    "            torch.mm(self.Y0, self.Wy) + torch.mm(X1, self.Wx) + self.b\n",
    "        )  # batch_size X n_neurons\n",
    "\n",
    "        return self.Y0, self.Y1"
   ]
  },
  {
   "cell_type": "code",
   "execution_count": 6,
   "metadata": {
    "id": "xlc4vEf88CP5"
   },
   "outputs": [],
   "source": [
    "N_INPUT = 3  # number of features in input\n",
    "N_NEURONS = 5  # number of units in layer\n",
    "\n",
    "X0_batch = torch.tensor(\n",
    "    [[0, 1, 2], [3, 4, 5], [6, 7, 8], [9, 0, 1]], dtype=torch.float\n",
    ")  # t=0 => 4 X 3\n",
    "\n",
    "X1_batch = torch.tensor(\n",
    "    [[9, 8, 7], [0, 0, 0], [6, 5, 4], [3, 2, 1]], dtype=torch.float\n",
    ")  # t=1 => 4 X 3\n",
    "\n",
    "model = BasicRNN(N_INPUT, N_NEURONS)\n",
    "\n",
    "Y0_val, Y1_val = model(X0_batch, X1_batch)"
   ]
  },
  {
   "cell_type": "markdown",
   "metadata": {
    "id": "c9VNN7jf8CP9"
   },
   "source": [
    "Now when we print the outputs produced for each time step, it is of size (`4 X 5`), which represents the batch size and number of neurons, respectively."
   ]
  },
  {
   "cell_type": "code",
   "execution_count": 7,
   "metadata": {
    "colab": {
     "base_uri": "https://localhost:8080/",
     "height": 153
    },
    "id": "r1kiEzop8CP-",
    "outputId": "85c311c2-e238-4de8-b81b-926cd41d5542"
   },
   "outputs": [
    {
     "name": "stdout",
     "output_type": "stream",
     "text": [
      "tensor([[ 0.9954,  0.0596,  0.9522, -0.8571,  0.8253],\n",
      "        [ 1.0000, -0.9098,  0.9999, -0.7233,  0.9999],\n",
      "        [ 1.0000, -0.9960,  1.0000, -0.4981,  1.0000],\n",
      "        [ 0.6635, -0.9916,  1.0000,  0.9964,  1.0000]])\n",
      "tensor([[ 1.0000, -0.9961,  1.0000,  0.9763,  1.0000],\n",
      "        [-0.8752,  0.9616,  0.8126, -0.2633, -0.9469],\n",
      "        [ 1.0000, -0.8937,  1.0000,  0.9483,  0.9998],\n",
      "        [-0.9437, -0.8628,  0.9910,  0.9397,  0.9790]])\n"
     ]
    }
   ],
   "source": [
    "print(Y0_val)\n",
    "print(Y1_val)"
   ]
  },
  {
   "cell_type": "markdown",
   "metadata": {
    "id": "BRKjsv2t8CQG"
   },
   "source": [
    "### PyTorch Built-in RNN Cell"
   ]
  },
  {
   "cell_type": "markdown",
   "metadata": {
    "id": "Rcu2H6D88CQH"
   },
   "source": [
    "If you take a closer look at the `BasicRNN` computation graph we have just built, it has a serious flaw. What if we wanted to build an architecture that supports extremely large inputs and outputs. The way it is currently built, it would require us to individually compute the outputs for every time step, increasing the lines of code needed to implement the desired computation graph. Below I will show you how to consolidate and implement this more efficiently and cleanly using the built-in RNNCell module.\n",
    "\n",
    "Let's first try to implement this informally to analyze the role `RNNCell` plays:"
   ]
  },
  {
   "cell_type": "code",
   "execution_count": 8,
   "metadata": {
    "colab": {
     "base_uri": "https://localhost:8080/",
     "height": 136
    },
    "id": "Dp0Wjh4Z8CQI",
    "outputId": "bc101fc6-9060-4240-a82b-b920a4ed3eab"
   },
   "outputs": [
    {
     "name": "stdout",
     "output_type": "stream",
     "text": [
      "[tensor([[-0.9710, -0.6652, -0.4110,  0.8584, -0.9306],\n",
      "        [-0.9998,  0.3855, -0.9951,  0.0772, -0.9996],\n",
      "        [-1.0000,  0.8045, -0.9996, -0.0908, -1.0000],\n",
      "        [-0.8709,  0.9982, -0.9892, -0.2996, -0.9996]], grad_fn=<TanhBackward>), tensor([[-1.0000,  0.9706, -0.9999,  0.1906, -1.0000],\n",
      "        [-0.0617,  0.7200, -0.0885,  0.2534,  0.0770],\n",
      "        [-0.9994,  0.9635, -0.9946, -0.1205, -0.9988],\n",
      "        [-0.8969,  0.9151, -0.8332, -0.1960, -0.9163]], grad_fn=<TanhBackward>)]\n"
     ]
    }
   ],
   "source": [
    "rnn = nn.RNNCell(3, 5)  # n_input X n_neurons\n",
    "\n",
    "X_batch = torch.tensor(\n",
    "    [\n",
    "        [[0, 1, 2], [3, 4, 5], [6, 7, 8], [9, 0, 1]],\n",
    "        [[9, 8, 7], [0, 0, 0], [6, 5, 4], [3, 2, 1]],\n",
    "    ],\n",
    "    dtype=torch.float,\n",
    ")  # X0 and X1\n",
    "\n",
    "hx = torch.randn(4, 5)  # m X n_neurons\n",
    "output = []\n",
    "\n",
    "# for each time step\n",
    "for i in range(2):\n",
    "    hx = rnn(X_batch[i], hx)\n",
    "    output.append(hx)\n",
    "\n",
    "print(output)"
   ]
  },
  {
   "cell_type": "markdown",
   "metadata": {
    "id": "cRNUCsXl8CQN"
   },
   "source": [
    "With the above code, we have basically implemented the same model that was implemented in `BasicRNN`. `torch.RNNCell(...)` does all the magic of creating and maintaining the necessary weights and biases for us. `torch.RNNCell` accepts a tensor as input and outputs the next hidden state for each element in the batch. Read more about this module [here](https://pytorch.org/docs/stable/nn.html?highlight=rnncell#torch.nn.RNNCell).\n",
    "\n",
    "Now, let's formally build the computation graph using the same information we used above."
   ]
  },
  {
   "cell_type": "code",
   "execution_count": 9,
   "metadata": {
    "id": "Opob45Zj8CQP"
   },
   "outputs": [],
   "source": [
    "class CleanBasicRNN(nn.Module):\n",
    "    def __init__(self, batch_size, n_inputs, n_neurons):\n",
    "        super(CleanBasicRNN, self).__init__()\n",
    "\n",
    "        self.rnn = nn.RNNCell(n_inputs, n_neurons)\n",
    "        self.hx = torch.randn(batch_size, n_neurons)  # initialize hidden state\n",
    "\n",
    "    def forward(self, X):\n",
    "        output = []\n",
    "\n",
    "        # for each time step\n",
    "        for i in range(2):\n",
    "            self.hx = self.rnn(X[i], self.hx)\n",
    "            output.append(self.hx)\n",
    "\n",
    "        return output, self.hx"
   ]
  },
  {
   "cell_type": "code",
   "execution_count": 10,
   "metadata": {
    "colab": {
     "base_uri": "https://localhost:8080/",
     "height": 204
    },
    "id": "oL1yBNis8CQa",
    "outputId": "7f2ffb2d-e412-4792-a8bb-2687b59d3205"
   },
   "outputs": [
    {
     "name": "stdout",
     "output_type": "stream",
     "text": [
      "[tensor([[ 0.2394,  0.3330,  0.1692,  0.7714, -0.4915],\n",
      "        [ 0.5062,  0.9383,  0.9627,  0.9943, -0.7024],\n",
      "        [ 0.6246,  0.9962,  0.9828,  0.9894, -0.9639],\n",
      "        [ 0.5818,  0.9976, -0.2329,  0.9903, -0.9174]], grad_fn=<TanhBackward>), tensor([[ 0.2335,  0.9998,  0.9866,  0.9960, -0.9018],\n",
      "        [-0.7837, -0.0023,  0.4319,  0.0136, -0.6594],\n",
      "        [-0.5504,  0.9944,  0.9673,  0.9318, -0.7710],\n",
      "        [-0.8547,  0.8444,  0.6655,  0.7964, -0.8273]], grad_fn=<TanhBackward>)]\n",
      "tensor([[ 0.2335,  0.9998,  0.9866,  0.9960, -0.9018],\n",
      "        [-0.7837, -0.0023,  0.4319,  0.0136, -0.6594],\n",
      "        [-0.5504,  0.9944,  0.9673,  0.9318, -0.7710],\n",
      "        [-0.8547,  0.8444,  0.6655,  0.7964, -0.8273]], grad_fn=<TanhBackward>)\n"
     ]
    }
   ],
   "source": [
    "FIXED_BATCH_SIZE = 4  # our batch size is fixed for now\n",
    "N_INPUT = 3\n",
    "N_NEURONS = 5\n",
    "\n",
    "X_batch = torch.tensor(\n",
    "    [\n",
    "        [[0, 1, 2], [3, 4, 5], [6, 7, 8], [9, 0, 1]],\n",
    "        [[9, 8, 7], [0, 0, 0], [6, 5, 4], [3, 2, 1]],\n",
    "    ],\n",
    "    dtype=torch.float,\n",
    ")  # X0 and X1\n",
    "\n",
    "\n",
    "model = CleanBasicRNN(FIXED_BATCH_SIZE, N_INPUT, N_NEURONS)\n",
    "output_val, states_val = model(X_batch)\n",
    "print(output_val)  # contains all output for all timesteps\n",
    "print(states_val)  # contain values for final state or final timestep, i.e., t=1"
   ]
  },
  {
   "cell_type": "markdown",
   "metadata": {
    "id": "l240cp4g8CQh"
   },
   "source": [
    "You can see how the code is much cleaner since we don't need to explicitly operate on the weights as shown in the previous code snippet  --  everything is handled implicitly and eloquently behind the scenes by PyTorch."
   ]
  },
  {
   "cell_type": "markdown",
   "metadata": {
    "id": "n3zn-Ydx8CQi"
   },
   "source": [
    "### RNN for Image Classification"
   ]
  },
  {
   "cell_type": "markdown",
   "metadata": {
    "id": "eTJHs-S-8CQk"
   },
   "source": [
    "![alt txt](https://docs.google.com/drawings/d/e/2PACX-1vSiMstqkE9hTYmhPD3KMeFRNNKYA2NnrCayahBOEL1TalRqaWF7rH8a7O-nP9c-mKOdZRsWtmAGZfNN/pub?w=969&h=368)\n",
    "\n",
    "Now that you have learned how to build a simple RNN from scratch and using the built-in `RNNCell` module provided in PyTorch, let's do something more sophisticated and special.\n",
    "\n",
    "Let's try to build an image classifier using the MNIST dataset. The MNIST dataset consists of images that contain hand-written numbers from 1–10. Essentially, we want to build a classifier to predict the numbers displayed by a set of images. I know this sounds strange but you will be surprised by how well RNNs perform on this image classification task.\n",
    "\n",
    "In addition, we will also be using the `RNN` module instead of the `RNNCell` module since we want to generalize the computation graph to be able to support an `n` number of layers as well. We will only use one layer in the following computation graph, but you can experiment with the code later on by adding more layers."
   ]
  },
  {
   "cell_type": "markdown",
   "metadata": {
    "id": "4vnhd2vR8CQo"
   },
   "source": [
    "#### Importing the dataset \n",
    "Before building the RNN-based computation graph, let's import the MNIST dataset, split it into test and train portions, do a few transformations, and further explore it. You will need the following PyTorch libraries and lines of code to download and import the MNIST dataset to Google Colab."
   ]
  },
  {
   "cell_type": "code",
   "execution_count": 11,
   "metadata": {
    "id": "6FViVH8w8CQr"
   },
   "outputs": [],
   "source": [
    "import torchvision\n",
    "import torchvision.transforms as transforms"
   ]
  },
  {
   "cell_type": "code",
   "execution_count": 12,
   "metadata": {
    "colab": {
     "base_uri": "https://localhost:8080/",
     "height": 383,
     "referenced_widgets": [
      "c194dfd9668b4c7e97a0b598ee810468",
      "56a4a9cb54764f7c9d858310441a55aa",
      "3eaae8eacaf048448ad11007109143e9",
      "bd2c425468d444e9931605adeaeaa78a",
      "b140724336ea4e04af134d48432f74d6",
      "f16d5d027aed4f8f87773bb7951616b2",
      "42fd164015de419a9c58be0f860c4439",
      "9ef3b6475ef049b1822ee119866bdc3e",
      "b7c63f595ac24762a3215071b14fd32c",
      "58e5e45c6ba7449bab80fd696286e072",
      "446d95ac8c6b4e1094fbf6703499f412",
      "023cf4ce24da49329796df463123d41f",
      "915c954de9f348278f22b68eec8cee63",
      "faef4bfc378447d892f6278cb410d1c5",
      "4a352572ee9b4682b70da3838d5117c5",
      "2563cdf52b8348bf89bfaa3ef19e8373",
      "8cdc0cb999bc4b16bdbe0e75e329481a",
      "26c8ff74123244e29a66b98557519883",
      "aecc1a9e4bc4478096278bf04bc4a7eb",
      "d4560bb340f441b89ce84f457bd7b48c",
      "8eec08b3b62642b9856b188a06762742",
      "f577c19d9e6b4699bbeca1b4ceb27bd4",
      "2323f246afa04fc5b0b099d8729426d5",
      "cfad60d6e3f7458fbfd33185e5bad018",
      "146b255c687b41f5ac178e918045d46d",
      "ef6b741c684546b184ca86813c2b02a0",
      "022f6fad73914b4cbbd65e48de239c2f",
      "b0f8d0bbd29d45b986b4895a447aff7d",
      "c1d3127d214545aea609ddcd7c19f1fd",
      "abd1c8b5ff7f4bf7a751a53bcacf5d5f",
      "8f59433e532748f8a33a47e84c31a281",
      "ee940fd1588a48668c2a34c8f26c1195"
     ]
    },
    "id": "yrNdklIv8CQv",
    "outputId": "4358c5d4-d002-4318-a653-863d541c1b93"
   },
   "outputs": [],
   "source": [
    "BATCH_SIZE = 64\n",
    "\n",
    "# list all transformations\n",
    "transform = transforms.Compose([transforms.ToTensor()])\n",
    "\n",
    "# download and load training dataset\n",
    "trainset = torchvision.datasets.MNIST(\n",
    "    root=\"./data\", train=True, download=True, transform=transform\n",
    ")\n",
    "trainloader = torch.utils.data.DataLoader(\n",
    "    trainset, batch_size=BATCH_SIZE, shuffle=True, num_workers=2\n",
    ")\n",
    "\n",
    "# download and load testing dataset\n",
    "testset = torchvision.datasets.MNIST(\n",
    "    root=\"./data\", train=False, download=True, transform=transform\n",
    ")\n",
    "testloader = torch.utils.data.DataLoader(\n",
    "    testset, batch_size=BATCH_SIZE, shuffle=False, num_workers=2\n",
    ")"
   ]
  },
  {
   "cell_type": "markdown",
   "metadata": {
    "id": "Ixg3XnDM8CQy"
   },
   "source": [
    "The code above loads and prepares the dataset to be fed into the computation graph we will build later on. Take a few minutes to play around with the code and understand what is happening. Notice that we needed to provide a batch size. This is because `trainloader` and `testloader` are iterators which will make it easier when we are iterating on the dataset and training our RNN model with minibatches."
   ]
  },
  {
   "cell_type": "markdown",
   "metadata": {
    "id": "2f0fVaIV8CQ3"
   },
   "source": [
    "#### Exloring the dataset\n",
    "Here is a few lines of code to explore the dataset. I won't cover much of what's going on here, but you can take some time and look at it by yourself."
   ]
  },
  {
   "cell_type": "code",
   "execution_count": 13,
   "metadata": {
    "colab": {
     "base_uri": "https://localhost:8080/",
     "height": 269
    },
    "id": "TEKzVTOY8CQ4",
    "outputId": "50ff5622-a7e5-4e27-9a2c-873e5d7256f0"
   },
   "outputs": [
    {
     "data": {
      "image/png": "[encoded data removed]",
      "text/plain": [
       "<Figure size 432x288 with 1 Axes>"
      ]
     },
     "metadata": {
      "needs_background": "light"
     },
     "output_type": "display_data"
    }
   ],
   "source": [
    "import matplotlib.pyplot as plt\n",
    "import numpy as np\n",
    "\n",
    "# functions to show an image\n",
    "def imshow(img):\n",
    "    # img = img / 2 + 0.5     # unnormalize\n",
    "    npimg = img.numpy()\n",
    "    plt.imshow(np.transpose(npimg, (1, 2, 0)))\n",
    "\n",
    "\n",
    "# get some random training images\n",
    "dataiter = iter(trainloader)\n",
    "images, labels = dataiter.next()\n",
    "\n",
    "# show images\n",
    "imshow(torchvision.utils.make_grid(images))"
   ]
  },
  {
   "cell_type": "markdown",
   "metadata": {
    "id": "Y7NloDy08CQ9"
   },
   "source": [
    "#### Model\n",
    "Let's construct the computation graph. Below are the parameters:"
   ]
  },
  {
   "cell_type": "code",
   "execution_count": 14,
   "metadata": {
    "id": "dqjWHTo08CQ-"
   },
   "outputs": [],
   "source": [
    "# parameters\n",
    "N_STEPS = 28\n",
    "N_INPUTS = 28\n",
    "N_NEURONS = 150\n",
    "N_OUTPUTS = 10\n",
    "N_EPHOCS = 10"
   ]
  },
  {
   "cell_type": "markdown",
   "metadata": {
    "id": "gpFu75e88CRB"
   },
   "source": [
    "And finally, here is a figure of the RNN-based classification model we are building:\n",
    "\n",
    "![alt txt](https://docs.google.com/drawings/d/e/2PACX-1vQWhELhewvq_bHgqwf4vwDb5B9DN9-jAxeTF9Y73zr-OsW6OXC-ngxAfojivXyZEhjzLXceTZU2Ncz3/pub?w=550&h=600)"
   ]
  },
  {
   "cell_type": "markdown",
   "metadata": {
    "id": "HukX7ZjP8CRC"
   },
   "source": [
    "And here is the code for the model:"
   ]
  },
  {
   "cell_type": "code",
   "execution_count": 15,
   "metadata": {
    "id": "14jNZxeg8CRD"
   },
   "outputs": [],
   "source": [
    "class ImageRNN(nn.Module):\n",
    "    def __init__(self, batch_size, n_steps, n_inputs, n_neurons, n_outputs):\n",
    "        super(ImageRNN, self).__init__()\n",
    "\n",
    "        self.n_neurons = n_neurons\n",
    "        self.batch_size = batch_size\n",
    "        self.n_steps = n_steps\n",
    "        self.n_inputs = n_inputs\n",
    "        self.n_outputs = n_outputs\n",
    "\n",
    "        self.basic_rnn = nn.RNN(self.n_inputs, self.n_neurons)\n",
    "\n",
    "        self.FC = nn.Linear(self.n_neurons, self.n_outputs)\n",
    "\n",
    "    def init_hidden(\n",
    "        self,\n",
    "    ):\n",
    "        # (num_layers, batch_size, n_neurons)\n",
    "        return torch.zeros(1, self.batch_size, self.n_neurons)\n",
    "\n",
    "    def forward(self, X):\n",
    "        # transforms X to dimensions: n_steps X batch_size X n_inputs\n",
    "        X = X.permute(1, 0, 2)\n",
    "\n",
    "        self.batch_size = X.size(1)\n",
    "        self.hidden = self.init_hidden()\n",
    "\n",
    "        # lstm_out => n_steps, batch_size, n_neurons (hidden states for each time step)\n",
    "        # self.hidden => 1, batch_size, n_neurons (final state from each lstm_out)\n",
    "        lstm_out, self.hidden = self.basic_rnn(X, self.hidden)\n",
    "        out = self.FC(self.hidden)\n",
    "\n",
    "        return out.view(-1, self.n_outputs)  # batch_size X n_output"
   ]
  },
  {
   "cell_type": "markdown",
   "metadata": {
    "id": "8Yw8fFlp8CRJ"
   },
   "source": [
    "The `ImageRNN` model is doing the following:\n",
    "- The initialization function `__init__(...)` declares a few variables, and then a basic RNN layer `basic_rnn` followed by a fully-connected layer `self.FC`.\n",
    "- The `init_hidden` function initializes hidden weights with zero values. \n",
    "The `forward` function accepts an input of size `n_steps X batch_size X n_neurons`. Then the data flows through the RNN layer and then through the fully-connected layer. \n",
    "- The output are the log probabilities of the model."
   ]
  },
  {
   "cell_type": "markdown",
   "metadata": {
    "id": "bJUCKm_U8CRK"
   },
   "source": [
    "#### Testing the model with some samples\n",
    "A very good practice encouraged by PyTorch developers throughout their documentation, and which I really like and highly recommend, is to always test the model with a portion of the dataset before actual training. This is to ensure that you have the correct dimension specified and that the model is outputing the information you expect. Below I show an example of how to test your model:"
   ]
  },
  {
   "cell_type": "code",
   "execution_count": 16,
   "metadata": {
    "colab": {
     "base_uri": "https://localhost:8080/",
     "height": 357
    },
    "id": "P6W0jwK08CRM",
    "outputId": "51d9f522-1558-4628-88f5-911c2ae505c7"
   },
   "outputs": [
    {
     "name": "stdout",
     "output_type": "stream",
     "text": [
      "tensor([[ 2.1636e-02,  6.3490e-05, -2.3669e-02, -1.5926e-01, -5.9660e-03,\n",
      "          1.1096e-02, -5.2993e-02,  2.3704e-02,  3.8567e-02,  3.8503e-02],\n",
      "        [ 3.5275e-02,  5.7013e-03, -3.2352e-02, -1.6056e-01,  1.7486e-02,\n",
      "         -5.5683e-03, -6.0772e-02,  8.1198e-03,  5.2709e-02,  1.4137e-02],\n",
      "        [ 3.7336e-02,  5.1295e-03, -3.1522e-02, -1.6247e-01,  1.9156e-02,\n",
      "         -3.3524e-03, -5.9374e-02,  6.5657e-03,  4.9490e-02,  1.0479e-02],\n",
      "        [ 3.8120e-02,  5.3232e-03, -3.5378e-02, -1.7762e-01,  2.0711e-02,\n",
      "         -3.7469e-03, -7.1532e-02,  9.6986e-03,  4.6050e-02,  1.6364e-02],\n",
      "        [ 5.2006e-02, -2.7769e-02, -4.5874e-02, -1.8066e-01, -1.7068e-02,\n",
      "         -1.2892e-02, -1.0473e-01,  1.0103e-02,  5.0458e-02,  2.2345e-02],\n",
      "        [ 3.9525e-02,  2.1046e-02, -5.3496e-03, -1.8972e-01, -1.4683e-02,\n",
      "         -1.0819e-02, -8.1191e-02,  4.0863e-02,  4.7423e-02, -1.0566e-02],\n",
      "        [ 4.1395e-02,  2.5579e-03, -3.9332e-02, -1.8010e-01,  1.9142e-02,\n",
      "         -4.7894e-03, -7.2695e-02,  1.0919e-02,  4.5151e-02,  1.3877e-02],\n",
      "        [ 3.3447e-02,  7.4668e-03, -3.1052e-02, -1.6123e-01,  2.1402e-02,\n",
      "          1.3229e-03, -6.0478e-02,  4.9468e-03,  4.7718e-02,  1.3547e-02],\n",
      "        [ 4.2583e-02, -5.2252e-03, -2.4298e-02, -1.7168e-01,  1.4241e-02,\n",
      "          2.7577e-04, -7.0582e-02,  4.1449e-03,  4.7548e-02,  7.7196e-03],\n",
      "        [ 4.0335e-02, -5.9187e-03, -3.3046e-02, -1.7722e-01,  9.9675e-03,\n",
      "          1.1320e-03, -6.8415e-02,  6.9259e-03,  4.2047e-02,  1.5026e-02]],\n",
      "       grad_fn=<SliceBackward>)\n"
     ]
    }
   ],
   "source": [
    "dataiter = iter(trainloader)\n",
    "images, labels = dataiter.next()\n",
    "model = ImageRNN(BATCH_SIZE, N_STEPS, N_INPUTS, N_NEURONS, N_OUTPUTS)\n",
    "logits = model(images.view(-1, 28, 28))\n",
    "print(logits[0:10])"
   ]
  },
  {
   "cell_type": "markdown",
   "metadata": {
    "id": "BKDkckp98CRQ"
   },
   "source": [
    "#### Training"
   ]
  },
  {
   "cell_type": "markdown",
   "metadata": {
    "id": "46Qke-c08CRR"
   },
   "source": [
    "Now let's look at the code for training the image classification model. But first, let's declare a few helper functions needed to train the model:"
   ]
  },
  {
   "cell_type": "code",
   "execution_count": 17,
   "metadata": {
    "id": "BoDWoBuy8CRS"
   },
   "outputs": [],
   "source": [
    "import torch.optim as optim\n",
    "\n",
    "# Device\n",
    "device = torch.device(\"cuda:0\" if torch.cuda.is_available() else \"cpu\")\n",
    "\n",
    "# Model instance\n",
    "model = ImageRNN(BATCH_SIZE, N_STEPS, N_INPUTS, N_NEURONS, N_OUTPUTS)\n",
    "criterion = nn.CrossEntropyLoss()\n",
    "optimizer = optim.Adam(model.parameters(), lr=0.001)\n",
    "\n",
    "\n",
    "def get_accuracy(logit, target, batch_size):\n",
    "    \"\"\"Obtain accuracy for training round\"\"\"\n",
    "    corrects = (torch.max(logit, 1)[1].view(target.size()).data == target.data).sum()\n",
    "    accuracy = 100.0 * corrects / batch_size\n",
    "    return accuracy.item()"
   ]
  },
  {
   "cell_type": "markdown",
   "metadata": {
    "id": "uvCzj28o8CRX"
   },
   "source": [
    "Before training a model in PyTorch, you can programatically specify what device you want to use during training; the `torch.device(...)` function tells the program that we want to use the GPU if one is available, otherwise the CPU will be the default device.\n",
    "\n",
    "Then we create an instance of the model, `ImageRNN(...)``, with the proper parameters. The criterion represents the function we will use to compute the loss of the model. The `nn.CrossEntropyLoss()` function basically applies a log softmax followed by a negative log likelihood loss operation over the output of the model. To compute the loss, the function needs both the log probabilities and targets. We will see later in our code how to provide this to the criterion.\n",
    "\n",
    "For training, we also need an optimization algorithm which helps to update weights based on the current loss. This is achieved with the `optim.Adam` optimization function, which requires the model parameters and a learning rate. Alternatively, you can also use `optim.SGD` or any other optimization algorithm that's available. \n",
    "\n",
    "The `get_accuracy(...)` function simply computes the accuracy of the model given the log probabilities and target values. As an exercise, you can write code to test this function as we did with the model before.\n",
    "\n",
    "Let's put everything together and train our image classification model:"
   ]
  },
  {
   "cell_type": "code",
   "execution_count": 18,
   "metadata": {
    "colab": {
     "base_uri": "https://localhost:8080/",
     "height": 187
    },
    "id": "LaAmGhZT8CRX",
    "outputId": "a53631d3-ce78-4dca-d41a-85d1f2cf9e41"
   },
   "outputs": [
    {
     "name": "stdout",
     "output_type": "stream",
     "text": [
      "Epoch:  0 | Loss: 0.7305 | Train Accuracy: 76.28\n",
      "Epoch:  1 | Loss: 0.3485 | Train Accuracy: 89.90\n",
      "Epoch:  2 | Loss: 0.2392 | Train Accuracy: 93.25\n",
      "Epoch:  3 | Loss: 0.1974 | Train Accuracy: 94.40\n",
      "Epoch:  4 | Loss: 0.1723 | Train Accuracy: 95.16\n",
      "Epoch:  5 | Loss: 0.1584 | Train Accuracy: 95.57\n",
      "Epoch:  6 | Loss: 0.1429 | Train Accuracy: 96.03\n",
      "Epoch:  7 | Loss: 0.1350 | Train Accuracy: 96.26\n",
      "Epoch:  8 | Loss: 0.1353 | Train Accuracy: 96.29\n",
      "Epoch:  9 | Loss: 0.1228 | Train Accuracy: 96.57\n"
     ]
    }
   ],
   "source": [
    "for epoch in range(N_EPHOCS):  # loop over the dataset multiple times\n",
    "    train_running_loss = 0.0\n",
    "    train_acc = 0.0\n",
    "    model.train()\n",
    "\n",
    "    # TRAINING ROUND\n",
    "    for i, data in enumerate(trainloader):\n",
    "        # zero the parameter gradients\n",
    "        optimizer.zero_grad()\n",
    "\n",
    "        # reset hidden states\n",
    "        model.hidden = model.init_hidden()\n",
    "\n",
    "        # get the inputs\n",
    "\n",
    "        inputs, labels = data\n",
    "        inputs = inputs.view(-1, 28, 28)\n",
    "\n",
    "        # forward + backward + optimize\n",
    "        outputs = model(inputs)\n",
    "\n",
    "        loss = criterion(outputs, labels)\n",
    "        loss.backward()\n",
    "        optimizer.step()\n",
    "\n",
    "        train_running_loss += loss.detach().item()\n",
    "        train_acc += get_accuracy(outputs, labels, BATCH_SIZE)\n",
    "\n",
    "    model.eval()\n",
    "    print(\n",
    "        \"Epoch:  %d | Loss: %.4f | Train Accuracy: %.2f\"\n",
    "        % (epoch, train_running_loss / i, train_acc / i)\n",
    "    )"
   ]
  },
  {
   "cell_type": "markdown",
   "metadata": {
    "id": "93-DMqi58CRf"
   },
   "source": [
    "We can also compute accuracy on the testing dataset to test how well the model performs on the image classification task. As you can see below, our RNN model is performing very well on the MNIST classification task.\n"
   ]
  },
  {
   "cell_type": "code",
   "execution_count": 19,
   "metadata": {
    "colab": {
     "base_uri": "https://localhost:8080/",
     "height": 34
    },
    "id": "BzeqYT4N8CRi",
    "outputId": "fbeff58d-756a-474c-975a-172b30ee36b3"
   },
   "outputs": [
    {
     "name": "stdout",
     "output_type": "stream",
     "text": [
      "Test Accuracy: 96.43\n"
     ]
    }
   ],
   "source": [
    "test_acc = 0.0\n",
    "for i, data in enumerate(testloader, 0):\n",
    "    inputs, labels = data\n",
    "    inputs = inputs.view(-1, 28, 28)\n",
    "\n",
    "    outputs = model(inputs)\n",
    "\n",
    "    test_acc += get_accuracy(outputs, labels, BATCH_SIZE)\n",
    "\n",
    "print(\"Test Accuracy: %.2f\" % (test_acc / i))"
   ]
  },
  {
   "cell_type": "markdown",
   "metadata": {
    "id": "FD98PsQi8CRv"
   },
   "source": [
    "### Final Words\n",
    "Please notice that we are not using GPU in this tutorial since the models we are building are relatively simple. As an exercise, you can take a look at the [PyTorch documentation](https://pytorch.org/docs/stable/notes/cuda.html) to learn how to program specific operations to execute on the GPU. You can then try to optimize the code to run on the GPU. If you need help with this, reach out to me on [Twitter](https://twitter.com/omarsar0).\n",
    "\n",
    "That's it for this tutorial. Congratulations! You are now able to implement a basic RNN in PyTorch. You also learned how to apply RNNs to solve a real-world, image classification problem.\n",
    "\n",
    "In the next tutorial, we will do more advanced things with RNNs and try to solve even more complex problems, such as sarcasm detection and sentiment classification. Until next time!"
   ]
  },
  {
   "cell_type": "markdown",
   "metadata": {
    "id": "jKAm1xB08CRx"
   },
   "source": [
    "### References\n",
    "- [A Simple Neural Network from Scratch with PyTorch and Google Colab](https://github.com/omarsar/pytorch_intro_neural_network/blob/master/nn.ipynb)\n",
    "- [Hands on Machine Learning with Scikit-learn and Tensorflow](http://shop.oreilly.com/product/0636920052289.do)"
   ]
  }
 ],
 "metadata": {
  "colab": {
   "name": "RNN_PT.ipynb",
   "provenance": []
  },
  "kernelspec": {
   "display_name": "Python 3 (ipykernel)",
   "language": "python",
   "name": "python3"
  },
  "language_info": {
   "codemirror_mode": {
    "name": "ipython",
    "version": 3
   },
   "file_extension": ".py",
   "mimetype": "text/x-python",
   "name": "python",
   "nbconvert_exporter": "python",
   "pygments_lexer": "ipython3",
   "version": "3.8.5"
  },
  "widgets": {
   "application/vnd.jupyter.widget-state+json": {
    "022f6fad73914b4cbbd65e48de239c2f": {
     "model_module": "@jupyter-widgets/controls",
     "model_module_version": "1.5.0",
     "model_name": "IntProgressModel",
     "state": {
      "_dom_classes": [],
      "_model_module": "@jupyter-widgets/controls",
      "_model_module_version": "1.5.0",
      "_model_name": "IntProgressModel",
      "_view_count": null,
      "_view_module": "@jupyter-widgets/controls",
      "_view_module_version": "1.5.0",
      "_view_name": "ProgressView",
      "bar_style": "success",
      "description": "",
      "description_tooltip": null,
      "layout": "IPY_MODEL_abd1c8b5ff7f4bf7a751a53bcacf5d5f",
      "max": 1,
      "min": 0,
      "orientation": "horizontal",
      "style": "IPY_MODEL_c1d3127d214545aea609ddcd7c19f1fd",
      "value": 1
     }
    },
    "023cf4ce24da49329796df463123d41f": {
     "model_module": "@jupyter-widgets/controls",
     "model_module_version": "1.5.0",
     "model_name": "HTMLModel",
     "state": {
      "_dom_classes": [],
      "_model_module": "@jupyter-widgets/controls",
      "_model_module_version": "1.5.0",
      "_model_name": "HTMLModel",
      "_view_count": null,
      "_view_module": "@jupyter-widgets/controls",
      "_view_module_version": "1.5.0",
      "_view_name": "HTMLView",
      "description": "",
      "description_tooltip": null,
      "layout": "IPY_MODEL_2563cdf52b8348bf89bfaa3ef19e8373",
      "placeholder": "​",
      "style": "IPY_MODEL_4a352572ee9b4682b70da3838d5117c5",
      "value": "32768it [00:00, 230359.16it/s]"
     }
    },
    "146b255c687b41f5ac178e918045d46d": {
     "model_module": "@jupyter-widgets/controls",
     "model_module_version": "1.5.0",
     "model_name": "HBoxModel",
     "state": {
      "_dom_classes": [],
      "_model_module": "@jupyter-widgets/controls",
      "_model_module_version": "1.5.0",
      "_model_name": "HBoxModel",
      "_view_count": null,
      "_view_module": "@jupyter-widgets/controls",
      "_view_module_version": "1.5.0",
      "_view_name": "HBoxView",
      "box_style": "",
      "children": [
       "IPY_MODEL_022f6fad73914b4cbbd65e48de239c2f",
       "IPY_MODEL_b0f8d0bbd29d45b986b4895a447aff7d"
      ],
      "layout": "IPY_MODEL_ef6b741c684546b184ca86813c2b02a0"
     }
    },
    "2323f246afa04fc5b0b099d8729426d5": {
     "model_module": "@jupyter-widgets/controls",
     "model_module_version": "1.5.0",
     "model_name": "DescriptionStyleModel",
     "state": {
      "_model_module": "@jupyter-widgets/controls",
      "_model_module_version": "1.5.0",
      "_model_name": "DescriptionStyleModel",
      "_view_count": null,
      "_view_module": "@jupyter-widgets/base",
      "_view_module_version": "1.2.0",
      "_view_name": "StyleView",
      "description_width": ""
     }
    },
    "2563cdf52b8348bf89bfaa3ef19e8373": {
     "model_module": "@jupyter-widgets/base",
     "model_module_version": "1.2.0",
     "model_name": "LayoutModel",
     "state": {
      "_model_module": "@jupyter-widgets/base",
      "_model_module_version": "1.2.0",
      "_model_name": "LayoutModel",
      "_view_count": null,
      "_view_module": "@jupyter-widgets/base",
      "_view_module_version": "1.2.0",
      "_view_name": "LayoutView",
      "align_content": null,
      "align_items": null,
      "align_self": null,
      "border": null,
      "bottom": null,
      "display": null,
      "flex": null,
      "flex_flow": null,
      "grid_area": null,
      "grid_auto_columns": null,
      "grid_auto_flow": null,
      "grid_auto_rows": null,
      "grid_column": null,
      "grid_gap": null,
      "grid_row": null,
      "grid_template_areas": null,
      "grid_template_columns": null,
      "grid_template_rows": null,
      "height": null,
      "justify_content": null,
      "justify_items": null,
      "left": null,
      "margin": null,
      "max_height": null,
      "max_width": null,
      "min_height": null,
      "min_width": null,
      "object_fit": null,
      "object_position": null,
      "order": null,
      "overflow": null,
      "overflow_x": null,
      "overflow_y": null,
      "padding": null,
      "right": null,
      "top": null,
      "visibility": null,
      "width": null
     }
    },
    "26c8ff74123244e29a66b98557519883": {
     "model_module": "@jupyter-widgets/base",
     "model_module_version": "1.2.0",
     "model_name": "LayoutModel",
     "state": {
      "_model_module": "@jupyter-widgets/base",
      "_model_module_version": "1.2.0",
      "_model_name": "LayoutModel",
      "_view_count": null,
      "_view_module": "@jupyter-widgets/base",
      "_view_module_version": "1.2.0",
      "_view_name": "LayoutView",
      "align_content": null,
      "align_items": null,
      "align_self": null,
      "border": null,
      "bottom": null,
      "display": null,
      "flex": null,
      "flex_flow": null,
      "grid_area": null,
      "grid_auto_columns": null,
      "grid_auto_flow": null,
      "grid_auto_rows": null,
      "grid_column": null,
      "grid_gap": null,
      "grid_row": null,
      "grid_template_areas": null,
      "grid_template_columns": null,
      "grid_template_rows": null,
      "height": null,
      "justify_content": null,
      "justify_items": null,
      "left": null,
      "margin": null,
      "max_height": null,
      "max_width": null,
      "min_height": null,
      "min_width": null,
      "object_fit": null,
      "object_position": null,
      "order": null,
      "overflow": null,
      "overflow_x": null,
      "overflow_y": null,
      "padding": null,
      "right": null,
      "top": null,
      "visibility": null,
      "width": null
     }
    },
    "3eaae8eacaf048448ad11007109143e9": {
     "model_module": "@jupyter-widgets/controls",
     "model_module_version": "1.5.0",
     "model_name": "IntProgressModel",
     "state": {
      "_dom_classes": [],
      "_model_module": "@jupyter-widgets/controls",
      "_model_module_version": "1.5.0",
      "_model_name": "IntProgressModel",
      "_view_count": null,
      "_view_module": "@jupyter-widgets/controls",
      "_view_module_version": "1.5.0",
      "_view_name": "ProgressView",
      "bar_style": "success",
      "description": "",
      "description_tooltip": null,
      "layout": "IPY_MODEL_f16d5d027aed4f8f87773bb7951616b2",
      "max": 1,
      "min": 0,
      "orientation": "horizontal",
      "style": "IPY_MODEL_b140724336ea4e04af134d48432f74d6",
      "value": 1
     }
    },
    "42fd164015de419a9c58be0f860c4439": {
     "model_module": "@jupyter-widgets/controls",
     "model_module_version": "1.5.0",
     "model_name": "DescriptionStyleModel",
     "state": {
      "_model_module": "@jupyter-widgets/controls",
      "_model_module_version": "1.5.0",
      "_model_name": "DescriptionStyleModel",
      "_view_count": null,
      "_view_module": "@jupyter-widgets/base",
      "_view_module_version": "1.2.0",
      "_view_name": "StyleView",
      "description_width": ""
     }
    },
    "446d95ac8c6b4e1094fbf6703499f412": {
     "model_module": "@jupyter-widgets/controls",
     "model_module_version": "1.5.0",
     "model_name": "IntProgressModel",
     "state": {
      "_dom_classes": [],
      "_model_module": "@jupyter-widgets/controls",
      "_model_module_version": "1.5.0",
      "_model_name": "IntProgressModel",
      "_view_count": null,
      "_view_module": "@jupyter-widgets/controls",
      "_view_module_version": "1.5.0",
      "_view_name": "ProgressView",
      "bar_style": "success",
      "description": "",
      "description_tooltip": null,
      "layout": "IPY_MODEL_faef4bfc378447d892f6278cb410d1c5",
      "max": 1,
      "min": 0,
      "orientation": "horizontal",
      "style": "IPY_MODEL_915c954de9f348278f22b68eec8cee63",
      "value": 1
     }
    },
    "4a352572ee9b4682b70da3838d5117c5": {
     "model_module": "@jupyter-widgets/controls",
     "model_module_version": "1.5.0",
     "model_name": "DescriptionStyleModel",
     "state": {
      "_model_module": "@jupyter-widgets/controls",
      "_model_module_version": "1.5.0",
      "_model_name": "DescriptionStyleModel",
      "_view_count": null,
      "_view_module": "@jupyter-widgets/base",
      "_view_module_version": "1.2.0",
      "_view_name": "StyleView",
      "description_width": ""
     }
    },
    "56a4a9cb54764f7c9d858310441a55aa": {
     "model_module": "@jupyter-widgets/base",
     "model_module_version": "1.2.0",
     "model_name": "LayoutModel",
     "state": {
      "_model_module": "@jupyter-widgets/base",
      "_model_module_version": "1.2.0",
      "_model_name": "LayoutModel",
      "_view_count": null,
      "_view_module": "@jupyter-widgets/base",
      "_view_module_version": "1.2.0",
      "_view_name": "LayoutView",
      "align_content": null,
      "align_items": null,
      "align_self": null,
      "border": null,
      "bottom": null,
      "display": null,
      "flex": null,
      "flex_flow": null,
      "grid_area": null,
      "grid_auto_columns": null,
      "grid_auto_flow": null,
      "grid_auto_rows": null,
      "grid_column": null,
      "grid_gap": null,
      "grid_row": null,
      "grid_template_areas": null,
      "grid_template_columns": null,
      "grid_template_rows": null,
      "height": null,
      "justify_content": null,
      "justify_items": null,
      "left": null,
      "margin": null,
      "max_height": null,
      "max_width": null,
      "min_height": null,
      "min_width": null,
      "object_fit": null,
      "object_position": null,
      "order": null,
      "overflow": null,
      "overflow_x": null,
      "overflow_y": null,
      "padding": null,
      "right": null,
      "top": null,
      "visibility": null,
      "width": null
     }
    },
    "58e5e45c6ba7449bab80fd696286e072": {
     "model_module": "@jupyter-widgets/base",
     "model_module_version": "1.2.0",
     "model_name": "LayoutModel",
     "state": {
      "_model_module": "@jupyter-widgets/base",
      "_model_module_version": "1.2.0",
      "_model_name": "LayoutModel",
      "_view_count": null,
      "_view_module": "@jupyter-widgets/base",
      "_view_module_version": "1.2.0",
      "_view_name": "LayoutView",
      "align_content": null,
      "align_items": null,
      "align_self": null,
      "border": null,
      "bottom": null,
      "display": null,
      "flex": null,
      "flex_flow": null,
      "grid_area": null,
      "grid_auto_columns": null,
      "grid_auto_flow": null,
      "grid_auto_rows": null,
      "grid_column": null,
      "grid_gap": null,
      "grid_row": null,
      "grid_template_areas": null,
      "grid_template_columns": null,
      "grid_template_rows": null,
      "height": null,
      "justify_content": null,
      "justify_items": null,
      "left": null,
      "margin": null,
      "max_height": null,
      "max_width": null,
      "min_height": null,
      "min_width": null,
      "object_fit": null,
      "object_position": null,
      "order": null,
      "overflow": null,
      "overflow_x": null,
      "overflow_y": null,
      "padding": null,
      "right": null,
      "top": null,
      "visibility": null,
      "width": null
     }
    },
    "8cdc0cb999bc4b16bdbe0e75e329481a": {
     "model_module": "@jupyter-widgets/controls",
     "model_module_version": "1.5.0",
     "model_name": "HBoxModel",
     "state": {
      "_dom_classes": [],
      "_model_module": "@jupyter-widgets/controls",
      "_model_module_version": "1.5.0",
      "_model_name": "HBoxModel",
      "_view_count": null,
      "_view_module": "@jupyter-widgets/controls",
      "_view_module_version": "1.5.0",
      "_view_name": "HBoxView",
      "box_style": "",
      "children": [
       "IPY_MODEL_aecc1a9e4bc4478096278bf04bc4a7eb",
       "IPY_MODEL_d4560bb340f441b89ce84f457bd7b48c"
      ],
      "layout": "IPY_MODEL_26c8ff74123244e29a66b98557519883"
     }
    },
    "8eec08b3b62642b9856b188a06762742": {
     "model_module": "@jupyter-widgets/controls",
     "model_module_version": "1.5.0",
     "model_name": "ProgressStyleModel",
     "state": {
      "_model_module": "@jupyter-widgets/controls",
      "_model_module_version": "1.5.0",
      "_model_name": "ProgressStyleModel",
      "_view_count": null,
      "_view_module": "@jupyter-widgets/base",
      "_view_module_version": "1.2.0",
      "_view_name": "StyleView",
      "bar_color": null,
      "description_width": ""
     }
    },
    "8f59433e532748f8a33a47e84c31a281": {
     "model_module": "@jupyter-widgets/controls",
     "model_module_version": "1.5.0",
     "model_name": "DescriptionStyleModel",
     "state": {
      "_model_module": "@jupyter-widgets/controls",
      "_model_module_version": "1.5.0",
      "_model_name": "DescriptionStyleModel",
      "_view_count": null,
      "_view_module": "@jupyter-widgets/base",
      "_view_module_version": "1.2.0",
      "_view_name": "StyleView",
      "description_width": ""
     }
    },
    "915c954de9f348278f22b68eec8cee63": {
     "model_module": "@jupyter-widgets/controls",
     "model_module_version": "1.5.0",
     "model_name": "ProgressStyleModel",
     "state": {
      "_model_module": "@jupyter-widgets/controls",
      "_model_module_version": "1.5.0",
      "_model_name": "ProgressStyleModel",
      "_view_count": null,
      "_view_module": "@jupyter-widgets/base",
      "_view_module_version": "1.2.0",
      "_view_name": "StyleView",
      "bar_color": null,
      "description_width": ""
     }
    },
    "9ef3b6475ef049b1822ee119866bdc3e": {
     "model_module": "@jupyter-widgets/base",
     "model_module_version": "1.2.0",
     "model_name": "LayoutModel",
     "state": {
      "_model_module": "@jupyter-widgets/base",
      "_model_module_version": "1.2.0",
      "_model_name": "LayoutModel",
      "_view_count": null,
      "_view_module": "@jupyter-widgets/base",
      "_view_module_version": "1.2.0",
      "_view_name": "LayoutView",
      "align_content": null,
      "align_items": null,
      "align_self": null,
      "border": null,
      "bottom": null,
      "display": null,
      "flex": null,
      "flex_flow": null,
      "grid_area": null,
      "grid_auto_columns": null,
      "grid_auto_flow": null,
      "grid_auto_rows": null,
      "grid_column": null,
      "grid_gap": null,
      "grid_row": null,
      "grid_template_areas": null,
      "grid_template_columns": null,
      "grid_template_rows": null,
      "height": null,
      "justify_content": null,
      "justify_items": null,
      "left": null,
      "margin": null,
      "max_height": null,
      "max_width": null,
      "min_height": null,
      "min_width": null,
      "object_fit": null,
      "object_position": null,
      "order": null,
      "overflow": null,
      "overflow_x": null,
      "overflow_y": null,
      "padding": null,
      "right": null,
      "top": null,
      "visibility": null,
      "width": null
     }
    },
    "abd1c8b5ff7f4bf7a751a53bcacf5d5f": {
     "model_module": "@jupyter-widgets/base",
     "model_module_version": "1.2.0",
     "model_name": "LayoutModel",
     "state": {
      "_model_module": "@jupyter-widgets/base",
      "_model_module_version": "1.2.0",
      "_model_name": "LayoutModel",
      "_view_count": null,
      "_view_module": "@jupyter-widgets/base",
      "_view_module_version": "1.2.0",
      "_view_name": "LayoutView",
      "align_content": null,
      "align_items": null,
      "align_self": null,
      "border": null,
      "bottom": null,
      "display": null,
      "flex": null,
      "flex_flow": null,
      "grid_area": null,
      "grid_auto_columns": null,
      "grid_auto_flow": null,
      "grid_auto_rows": null,
      "grid_column": null,
      "grid_gap": null,
      "grid_row": null,
      "grid_template_areas": null,
      "grid_template_columns": null,
      "grid_template_rows": null,
      "height": null,
      "justify_content": null,
      "justify_items": null,
      "left": null,
      "margin": null,
      "max_height": null,
      "max_width": null,
      "min_height": null,
      "min_width": null,
      "object_fit": null,
      "object_position": null,
      "order": null,
      "overflow": null,
      "overflow_x": null,
      "overflow_y": null,
      "padding": null,
      "right": null,
      "top": null,
      "visibility": null,
      "width": null
     }
    },
    "aecc1a9e4bc4478096278bf04bc4a7eb": {
     "model_module": "@jupyter-widgets/controls",
     "model_module_version": "1.5.0",
     "model_name": "IntProgressModel",
     "state": {
      "_dom_classes": [],
      "_model_module": "@jupyter-widgets/controls",
      "_model_module_version": "1.5.0",
      "_model_name": "IntProgressModel",
      "_view_count": null,
      "_view_module": "@jupyter-widgets/controls",
      "_view_module_version": "1.5.0",
      "_view_name": "ProgressView",
      "bar_style": "success",
      "description": "",
      "description_tooltip": null,
      "layout": "IPY_MODEL_f577c19d9e6b4699bbeca1b4ceb27bd4",
      "max": 1,
      "min": 0,
      "orientation": "horizontal",
      "style": "IPY_MODEL_8eec08b3b62642b9856b188a06762742",
      "value": 1
     }
    },
    "b0f8d0bbd29d45b986b4895a447aff7d": {
     "model_module": "@jupyter-widgets/controls",
     "model_module_version": "1.5.0",
     "model_name": "HTMLModel",
     "state": {
      "_dom_classes": [],
      "_model_module": "@jupyter-widgets/controls",
      "_model_module_version": "1.5.0",
      "_model_name": "HTMLModel",
      "_view_count": null,
      "_view_module": "@jupyter-widgets/controls",
      "_view_module_version": "1.5.0",
      "_view_name": "HTMLView",
      "description": "",
      "description_tooltip": null,
      "layout": "IPY_MODEL_ee940fd1588a48668c2a34c8f26c1195",
      "placeholder": "​",
      "style": "IPY_MODEL_8f59433e532748f8a33a47e84c31a281",
      "value": "8192it [00:00, 67940.87it/s]"
     }
    },
    "b140724336ea4e04af134d48432f74d6": {
     "model_module": "@jupyter-widgets/controls",
     "model_module_version": "1.5.0",
     "model_name": "ProgressStyleModel",
     "state": {
      "_model_module": "@jupyter-widgets/controls",
      "_model_module_version": "1.5.0",
      "_model_name": "ProgressStyleModel",
      "_view_count": null,
      "_view_module": "@jupyter-widgets/base",
      "_view_module_version": "1.2.0",
      "_view_name": "StyleView",
      "bar_color": null,
      "description_width": ""
     }
    },
    "b7c63f595ac24762a3215071b14fd32c": {
     "model_module": "@jupyter-widgets/controls",
     "model_module_version": "1.5.0",
     "model_name": "HBoxModel",
     "state": {
      "_dom_classes": [],
      "_model_module": "@jupyter-widgets/controls",
      "_model_module_version": "1.5.0",
      "_model_name": "HBoxModel",
      "_view_count": null,
      "_view_module": "@jupyter-widgets/controls",
      "_view_module_version": "1.5.0",
      "_view_name": "HBoxView",
      "box_style": "",
      "children": [
       "IPY_MODEL_446d95ac8c6b4e1094fbf6703499f412",
       "IPY_MODEL_023cf4ce24da49329796df463123d41f"
      ],
      "layout": "IPY_MODEL_58e5e45c6ba7449bab80fd696286e072"
     }
    },
    "bd2c425468d444e9931605adeaeaa78a": {
     "model_module": "@jupyter-widgets/controls",
     "model_module_version": "1.5.0",
     "model_name": "HTMLModel",
     "state": {
      "_dom_classes": [],
      "_model_module": "@jupyter-widgets/controls",
      "_model_module_version": "1.5.0",
      "_model_name": "HTMLModel",
      "_view_count": null,
      "_view_module": "@jupyter-widgets/controls",
      "_view_module_version": "1.5.0",
      "_view_name": "HTMLView",
      "description": "",
      "description_tooltip": null,
      "layout": "IPY_MODEL_9ef3b6475ef049b1822ee119866bdc3e",
      "placeholder": "​",
      "style": "IPY_MODEL_42fd164015de419a9c58be0f860c4439",
      "value": "9920512it [00:00, 25909449.50it/s]"
     }
    },
    "c194dfd9668b4c7e97a0b598ee810468": {
     "model_module": "@jupyter-widgets/controls",
     "model_module_version": "1.5.0",
     "model_name": "HBoxModel",
     "state": {
      "_dom_classes": [],
      "_model_module": "@jupyter-widgets/controls",
      "_model_module_version": "1.5.0",
      "_model_name": "HBoxModel",
      "_view_count": null,
      "_view_module": "@jupyter-widgets/controls",
      "_view_module_version": "1.5.0",
      "_view_name": "HBoxView",
      "box_style": "",
      "children": [
       "IPY_MODEL_3eaae8eacaf048448ad11007109143e9",
       "IPY_MODEL_bd2c425468d444e9931605adeaeaa78a"
      ],
      "layout": "IPY_MODEL_56a4a9cb54764f7c9d858310441a55aa"
     }
    },
    "c1d3127d214545aea609ddcd7c19f1fd": {
     "model_module": "@jupyter-widgets/controls",
     "model_module_version": "1.5.0",
     "model_name": "ProgressStyleModel",
     "state": {
      "_model_module": "@jupyter-widgets/controls",
      "_model_module_version": "1.5.0",
      "_model_name": "ProgressStyleModel",
      "_view_count": null,
      "_view_module": "@jupyter-widgets/base",
      "_view_module_version": "1.2.0",
      "_view_name": "StyleView",
      "bar_color": null,
      "description_width": ""
     }
    },
    "cfad60d6e3f7458fbfd33185e5bad018": {
     "model_module": "@jupyter-widgets/base",
     "model_module_version": "1.2.0",
     "model_name": "LayoutModel",
     "state": {
      "_model_module": "@jupyter-widgets/base",
      "_model_module_version": "1.2.0",
      "_model_name": "LayoutModel",
      "_view_count": null,
      "_view_module": "@jupyter-widgets/base",
      "_view_module_version": "1.2.0",
      "_view_name": "LayoutView",
      "align_content": null,
      "align_items": null,
      "align_self": null,
      "border": null,
      "bottom": null,
      "display": null,
      "flex": null,
      "flex_flow": null,
      "grid_area": null,
      "grid_auto_columns": null,
      "grid_auto_flow": null,
      "grid_auto_rows": null,
      "grid_column": null,
      "grid_gap": null,
      "grid_row": null,
      "grid_template_areas": null,
      "grid_template_columns": null,
      "grid_template_rows": null,
      "height": null,
      "justify_content": null,
      "justify_items": null,
      "left": null,
      "margin": null,
      "max_height": null,
      "max_width": null,
      "min_height": null,
      "min_width": null,
      "object_fit": null,
      "object_position": null,
      "order": null,
      "overflow": null,
      "overflow_x": null,
      "overflow_y": null,
      "padding": null,
      "right": null,
      "top": null,
      "visibility": null,
      "width": null
     }
    },
    "d4560bb340f441b89ce84f457bd7b48c": {
     "model_module": "@jupyter-widgets/controls",
     "model_module_version": "1.5.0",
     "model_name": "HTMLModel",
     "state": {
      "_dom_classes": [],
      "_model_module": "@jupyter-widgets/controls",
      "_model_module_version": "1.5.0",
      "_model_name": "HTMLModel",
      "_view_count": null,
      "_view_module": "@jupyter-widgets/controls",
      "_view_module_version": "1.5.0",
      "_view_name": "HTMLView",
      "description": "",
      "description_tooltip": null,
      "layout": "IPY_MODEL_cfad60d6e3f7458fbfd33185e5bad018",
      "placeholder": "​",
      "style": "IPY_MODEL_2323f246afa04fc5b0b099d8729426d5",
      "value": "1654784it [00:00, 6775428.01it/s]"
     }
    },
    "ee940fd1588a48668c2a34c8f26c1195": {
     "model_module": "@jupyter-widgets/base",
     "model_module_version": "1.2.0",
     "model_name": "LayoutModel",
     "state": {
      "_model_module": "@jupyter-widgets/base",
      "_model_module_version": "1.2.0",
      "_model_name": "LayoutModel",
      "_view_count": null,
      "_view_module": "@jupyter-widgets/base",
      "_view_module_version": "1.2.0",
      "_view_name": "LayoutView",
      "align_content": null,
      "align_items": null,
      "align_self": null,
      "border": null,
      "bottom": null,
      "display": null,
      "flex": null,
      "flex_flow": null,
      "grid_area": null,
      "grid_auto_columns": null,
      "grid_auto_flow": null,
      "grid_auto_rows": null,
      "grid_column": null,
      "grid_gap": null,
      "grid_row": null,
      "grid_template_areas": null,
      "grid_template_columns": null,
      "grid_template_rows": null,
      "height": null,
      "justify_content": null,
      "justify_items": null,
      "left": null,
      "margin": null,
      "max_height": null,
      "max_width": null,
      "min_height": null,
      "min_width": null,
      "object_fit": null,
      "object_position": null,
      "order": null,
      "overflow": null,
      "overflow_x": null,
      "overflow_y": null,
      "padding": null,
      "right": null,
      "top": null,
      "visibility": null,
      "width": null
     }
    },
    "ef6b741c684546b184ca86813c2b02a0": {
     "model_module": "@jupyter-widgets/base",
     "model_module_version": "1.2.0",
     "model_name": "LayoutModel",
     "state": {
      "_model_module": "@jupyter-widgets/base",
      "_model_module_version": "1.2.0",
      "_model_name": "LayoutModel",
      "_view_count": null,
      "_view_module": "@jupyter-widgets/base",
      "_view_module_version": "1.2.0",
      "_view_name": "LayoutView",
      "align_content": null,
      "align_items": null,
      "align_self": null,
      "border": null,
      "bottom": null,
      "display": null,
      "flex": null,
      "flex_flow": null,
      "grid_area": null,
      "grid_auto_columns": null,
      "grid_auto_flow": null,
      "grid_auto_rows": null,
      "grid_column": null,
      "grid_gap": null,
      "grid_row": null,
      "grid_template_areas": null,
      "grid_template_columns": null,
      "grid_template_rows": null,
      "height": null,
      "justify_content": null,
      "justify_items": null,
      "left": null,
      "margin": null,
      "max_height": null,
      "max_width": null,
      "min_height": null,
      "min_width": null,
      "object_fit": null,
      "object_position": null,
      "order": null,
      "overflow": null,
      "overflow_x": null,
      "overflow_y": null,
      "padding": null,
      "right": null,
      "top": null,
      "visibility": null,
      "width": null
     }
    },
    "f16d5d027aed4f8f87773bb7951616b2": {
     "model_module": "@jupyter-widgets/base",
     "model_module_version": "1.2.0",
     "model_name": "LayoutModel",
     "state": {
      "_model_module": "@jupyter-widgets/base",
      "_model_module_version": "1.2.0",
      "_model_name": "LayoutModel",
      "_view_count": null,
      "_view_module": "@jupyter-widgets/base",
      "_view_module_version": "1.2.0",
      "_view_name": "LayoutView",
      "align_content": null,
      "align_items": null,
      "align_self": null,
      "border": null,
      "bottom": null,
      "display": null,
      "flex": null,
      "flex_flow": null,
      "grid_area": null,
      "grid_auto_columns": null,
      "grid_auto_flow": null,
      "grid_auto_rows": null,
      "grid_column": null,
      "grid_gap": null,
      "grid_row": null,
      "grid_template_areas": null,
      "grid_template_columns": null,
      "grid_template_rows": null,
      "height": null,
      "justify_content": null,
      "justify_items": null,
      "left": null,
      "margin": null,
      "max_height": null,
      "max_width": null,
      "min_height": null,
      "min_width": null,
      "object_fit": null,
      "object_position": null,
      "order": null,
      "overflow": null,
      "overflow_x": null,
      "overflow_y": null,
      "padding": null,
      "right": null,
      "top": null,
      "visibility": null,
      "width": null
     }
    },
    "f577c19d9e6b4699bbeca1b4ceb27bd4": {
     "model_module": "@jupyter-widgets/base",
     "model_module_version": "1.2.0",
     "model_name": "LayoutModel",
     "state": {
      "_model_module": "@jupyter-widgets/base",
      "_model_module_version": "1.2.0",
      "_model_name": "LayoutModel",
      "_view_count": null,
      "_view_module": "@jupyter-widgets/base",
      "_view_module_version": "1.2.0",
      "_view_name": "LayoutView",
      "align_content": null,
      "align_items": null,
      "align_self": null,
      "border": null,
      "bottom": null,
      "display": null,
      "flex": null,
      "flex_flow": null,
      "grid_area": null,
      "grid_auto_columns": null,
      "grid_auto_flow": null,
      "grid_auto_rows": null,
      "grid_column": null,
      "grid_gap": null,
      "grid_row": null,
      "grid_template_areas": null,
      "grid_template_columns": null,
      "grid_template_rows": null,
      "height": null,
      "justify_content": null,
      "justify_items": null,
      "left": null,
      "margin": null,
      "max_height": null,
      "max_width": null,
      "min_height": null,
      "min_width": null,
      "object_fit": null,
      "object_position": null,
      "order": null,
      "overflow": null,
      "overflow_x": null,
      "overflow_y": null,
      "padding": null,
      "right": null,
      "top": null,
      "visibility": null,
      "width": null
     }
    },
    "faef4bfc378447d892f6278cb410d1c5": {
     "model_module": "@jupyter-widgets/base",
     "model_module_version": "1.2.0",
     "model_name": "LayoutModel",
     "state": {
      "_model_module": "@jupyter-widgets/base",
      "_model_module_version": "1.2.0",
      "_model_name": "LayoutModel",
      "_view_count": null,
      "_view_module": "@jupyter-widgets/base",
      "_view_module_version": "1.2.0",
      "_view_name": "LayoutView",
      "align_content": null,
      "align_items": null,
      "align_self": null,
      "border": null,
      "bottom": null,
      "display": null,
      "flex": null,
      "flex_flow": null,
      "grid_area": null,
      "grid_auto_columns": null,
      "grid_auto_flow": null,
      "grid_auto_rows": null,
      "grid_column": null,
      "grid_gap": null,
      "grid_row": null,
      "grid_template_areas": null,
      "grid_template_columns": null,
      "grid_template_rows": null,
      "height": null,
      "justify_content": null,
      "justify_items": null,
      "left": null,
      "margin": null,
      "max_height": null,
      "max_width": null,
      "min_height": null,
      "min_width": null,
      "object_fit": null,
      "object_position": null,
      "order": null,
      "overflow": null,
      "overflow_x": null,
      "overflow_y": null,
      "padding": null,
      "right": null,
      "top": null,
      "visibility": null,
      "width": null
     }
    }
   }
  }
 },
 "nbformat": 4,
 "nbformat_minor": 4
}
