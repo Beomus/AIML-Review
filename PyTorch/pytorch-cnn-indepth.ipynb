{
 "metadata": {
  "language_info": {
   "codemirror_mode": {
    "name": "ipython",
    "version": 3
   },
   "file_extension": ".py",
   "mimetype": "text/x-python",
   "name": "python",
   "nbconvert_exporter": "python",
   "pygments_lexer": "ipython3",
   "version": "3.7.9-final"
  },
  "orig_nbformat": 2,
  "kernelspec": {
   "name": "python3",
   "display_name": "Python 3",
   "language": "python"
  }
 },
 "nbformat": 4,
 "nbformat_minor": 2,
 "cells": [
  {
   "source": [
    "This notebook follow [this article](https://sgugger.github.io/convolution-in-depth.html) to try and recreate CNN from scratch to further understand the working of it."
   ],
   "cell_type": "markdown",
   "metadata": {}
  },
  {
   "cell_type": "code",
   "execution_count": 1,
   "metadata": {},
   "outputs": [],
   "source": [
    "import numpy as np"
   ]
  },
  {
   "cell_type": "code",
   "execution_count": 2,
   "metadata": {},
   "outputs": [],
   "source": [
    "def arr2vec(x, kernel_size, stride=1, padding=0):\n",
    "    k1, k2 = kernel_size\n",
    "    mb, ch, n1, n2 = x.shape\n",
    "    # initialize the empty output\n",
    "    y = np.zeros((mb, ch, n1 + 2*padding, n2 + 2*padding))\n",
    "    # since padding starts with 0, we can start the grid like this\n",
    "    y[:, :, padding: n1 + padding, padding: n2 + padding] = x\n",
    "    # initialize the starting indexes for the grid\n",
    "    start_idx = np.array([j + (n2 + 2*padding) * i for i in range(0, n1-k1+1+2*padding, stride) for j in range(0,n2-k2+1+2*padding, stride)])\n",
    "    #  we just want the numbers j+i∗n2 where j goes from 0 to k1, i goes from 0 to k2 and n2 is the number of columns\n",
    "    # determine all the possible start indexes \n",
    "    # which correspond to the points with coordinates (i,j) \n",
    "    # where i can vary from 0 to n1−k1 and j can vary from 0 to n2−k2.\n",
    "    # duplicate the grid ch times, adding n1×n2 each time we do\n",
    "    grid = np.array([j + (n2+2*padding) * i + (n1+2*padding) * (n2+2*padding) * k for k in range(0, ch) for i in range(k1) for j in range(k2)])\n",
    "    to_take = start_idx[:, None] + grid[None, :]\n",
    "    batch = np.array(range(0, mb)) * ch * (n1+2*padding) * (n2+2*padding)\n",
    "    return y.take(batch[:, None, None] + to_take[None, :, :])"
   ]
  },
  {
   "cell_type": "code",
   "execution_count": 3,
   "metadata": {},
   "outputs": [],
   "source": [
    "def vec2arr(x, kernel_size, old_shape, stride=1, padding=0):\n",
    "    k1, k2 = kernel_size\n",
    "    n, p = old_shape\n",
    "    mb, md, ftrs = x.shape\n",
    "    ch = ftrs // (k1 * k2)\n",
    "    # check how many windows could have passed over the element with coordinates (i,j)\n",
    "    # that's all the windows that started at (i−k1i,j−k2j) \n",
    "    # where k1i can go from 0 to k1−1 and k2j can go from 0 to k2−1.\n",
    "    idx = np.array([[[i-k1i, j-k2j] for k1i in range(k1) for k2j in range(k2)] for i in range(n) for j in range(p)])\n",
    "    in_bounds = (idx[:, :, 0] >= -padding) * (idx[:, :, 0] <= n-k1+padding)\n",
    "    in_bounds *= (idx[:, :, 1] >= -padding) * (idx[:, :, 0] <= p-k2+padding)\n",
    "\n",
    "    # the second array is a boolean array that \n",
    "    # checks that the corners of our windows are inside the picture\n",
    "    # taking the padding into account.\n",
    "    in_strides = ((idx[:, :, 0] + padding) % stride == 0) * ((idx[:, :, 1] + padding) % stride == 0)\n",
    "\n",
    "    # convert the couples into indexes and our channel dimension at the bottom\n",
    "    to_take = np.concatenate([idx[:, :, 0] * k2 + idx[:, :, 1] + k1*k2*c for c in range(ch)], axis=0)\n",
    "\n",
    "    #  we read on a line (when it's in bound and in-stride) the indexes of the elements to pick in each column\n",
    "    to_take = to_take + np.array([ftrs * i for i in range(k1 * k2)])\n",
    "    # For this to correspond to the indexes of the element in the array\n",
    "    # we have to add to each column a multiple of the number of columns in our input\n",
    "    to_take = np.concatenate([to_take + md*ftrs*m for m in range(mb)], axis=0)\n",
    "\n",
    "    # add all the mini-batches over the same dimension    \n",
    "    in_bounds = np.tile(in_bounds * in_strides, (ch * mb, 1))\n",
    "    \n",
    "    # use vectorization, we will create a big array of numbers, with as many row as as in our input, so N=m×ch×n1×n2 and as many columns as necessary.\n",
    "    return np.where(in_bounds, np.take(x, to_take), 0).sum(axis=1).reshape(mb, ch, n, p)\n"
   ]
  },
  {
   "cell_type": "code",
   "execution_count": 4,
   "metadata": {},
   "outputs": [],
   "source": [
    "class Convolution():\n",
    "    def __init__(self, nc_in, nc_out, kernel_size, stride=2, padding=1):\n",
    "        \"\"\"\n",
    "        nc_in: number of channel in\n",
    "        nc_out: number of channel out\n",
    "        kernel_size: size of the kernel\n",
    "        stride: size of each step\n",
    "        padding: outter padding for the input\n",
    "        \"\"\"\n",
    "        self.kernel_size = kernel_size\n",
    "        # weight = (num_chan_in * kernel size, num_chan_out) / sqrt(2 / num_chan_in)\n",
    "        # it is initialized by following a normal distribution with a standard deviation of sqrt(2/num_chan_in)\n",
    "        self.weights = np.random.randn(nc_in * kernel_size[0] * kernel_size[1], nc_out) * np.sqrt(2/nc_in)\n",
    "        self.biases = np.zeros(nc_out)\n",
    "        self.stride = stride\n",
    "        self.padding = padding\n",
    "\n",
    "    def forward(self, x):\n",
    "        mb, ch, n, p = x.shape\n",
    "        # mb: mini batch\n",
    "        # ch: channel\n",
    "        # n, p: w and height\n",
    "        y = np.matmul(arr2vec(x, self.kernel_size, self.stride, self.padding), self.weights) + self.biases\n",
    "        # inverting the last two axis\n",
    "        y = np.transpose(y, (0, 2, 1))\n",
    "        n1 = (n - self.kernel_size[0] + 2 * self.padding) // self.stride + 1\n",
    "        p1 = (p - self.kernel_size[1] + 2 * self.padding) // self.stride + 1\n",
    "        # reshaping the output size\n",
    "        return y.reshape(mb, self.biases.shape[0], n1, p1)\n",
    "\n",
    "    def backward(self, grad):\n",
    "        mb, ch_out, n1, p1 = grad.shape\n",
    "        # invert the last two axis\n",
    "        grad = np.transpose(grad.reshape(mb, ch_out, n1*p1), (0, 2, 1))\n",
    "        # calculate gradient wrt bias\n",
    "        self.grad_b = grad.sum(axis=1).mean(axis=0)\n",
    "        # calculate gradient wrt weight\n",
    "        self.grad_w = (np.matmul(self.old_x[:, :, :, None], grad[:, :, None, :])).sum(axis=1).mean(axis=0)\n",
    "        # calculate new grad\n",
    "        new_grad = np.matmul(grad, self.weights.transpose())\n",
    "        # reshape the gradient of the loss wrt to vec(x)\n",
    "        return vec2arr(new_grad, self.kernel_size, self.old_size, self.stride, self.padding)"
   ]
  }
 ]
}
